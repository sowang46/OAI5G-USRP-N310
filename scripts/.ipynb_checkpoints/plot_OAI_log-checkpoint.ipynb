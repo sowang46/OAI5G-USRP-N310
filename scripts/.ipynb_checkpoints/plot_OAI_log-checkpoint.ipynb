{
 "cells": [
  {
   "cell_type": "code",
   "execution_count": 7,
   "id": "f3863976",
   "metadata": {},
   "outputs": [],
   "source": [
    "from utils.preprocessing import OAILogParser\n",
    "import matplotlib.pyplot as plt\n",
    "import seaborn as sns\n",
    "import logging\n",
    "\n",
    "logging.basicConfig(level=logging.INFO)\n",
    "sns.set_theme(style=\"darkgrid\")"
   ]
  },
  {
   "cell_type": "code",
   "execution_count": 8,
   "id": "d68bb74e",
   "metadata": {},
   "outputs": [
    {
     "name": "stderr",
     "output_type": "stream",
     "text": [
      "INFO:root:[OAILogParser]  Matched 33501 logs [DLSCH/PDSCH/PUCCH]\n",
      "INFO:root:[OAILogParser]  Converted log to Pandas DataFrame\n"
     ]
    }
   ],
   "source": [
    "log_type = (\"[DLSCH/PDSCH/PUCCH]\", 23)\n",
    "log_entries = { (15, 19)   : \"frame\",\n",
    "                (20, 22)   : \"slot\",\n",
    "                (48, 52)   : \"rnti\",\n",
    "                (67, 70)   : \"rbStart\",\n",
    "                (75, 78)   : \"rbSize\",\n",
    "                (91, 93)   : \"startSymbolIndex\",\n",
    "                (104, 106) : \"nrOfSymbols\",\n",
    "                (123, 125): \"MCS\",\n",
    "                (137, 138): \"nrOfLayers\",\n",
    "                (143, 147): \"TBS\" \n",
    "               }\n",
    "sample_log = OAILogParser(fn=\"../examples/0116_debug_log_1.log\", log_type=log_type, log_entries=log_entries)"
   ]
  },
  {
   "cell_type": "code",
   "execution_count": 11,
   "id": "ff6e46ed",
   "metadata": {},
   "outputs": [
    {
     "data": {
      "text/plain": [
       "<AxesSubplot:xlabel='timestamp', ylabel='nrOfPRB'>"
      ]
     },
     "execution_count": 11,
     "metadata": {},
     "output_type": "execute_result"
    },
    {
     "data": {
      "image/png": "[encoded data removed]",
      "text/plain": [
       "<Figure size 1008x216 with 1 Axes>"
      ]
     },
     "metadata": {},
     "output_type": "display_data"
    }
   ],
   "source": [
    "sample_log.logs['nrOfPRB'] = sample_log['rbSize']*sample_log['nrOfSymbols']\n",
    "sample_log.logs['timestamp'] = sample_log['sn']*0.5*0.001    # second\n",
    "\n",
    "fig, ax = plt.subplots(figsize=(14, 3))\n",
    "sns.lineplot(ax=ax, data=sample_log.logs, x=\"timestamp\", y=\"nrOfPRB\")"
   ]
  },
  {
   "cell_type": "code",
   "execution_count": null,
   "id": "11a0c4b2",
   "metadata": {},
   "outputs": [],
   "source": []
  }
 ],
 "metadata": {
  "kernelspec": {
   "display_name": "Python 3 (ipykernel)",
   "language": "python",
   "name": "python3"
  },
  "language_info": {
   "codemirror_mode": {
    "name": "ipython",
    "version": 3
   },
   "file_extension": ".py",
   "mimetype": "text/x-python",
   "name": "python",
   "nbconvert_exporter": "python",
   "pygments_lexer": "ipython3",
   "version": "3.9.10"
  }
 },
 "nbformat": 4,
 "nbformat_minor": 5
}
